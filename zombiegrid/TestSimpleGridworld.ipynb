{
 "cells": [
  {
   "cell_type": "code",
   "execution_count": 1,
   "metadata": {},
   "outputs": [
    {
     "data": {
      "text/plain": [
       "('The agent is at (0, 3), facing down. The target is at (3, 1).', 0, False, {})"
      ]
     },
     "execution_count": 1,
     "metadata": {},
     "output_type": "execute_result"
    }
   ],
   "source": [
    "from simple_gridworld import GridGame, oracle, Action, Direction\n",
    "env = GridGame()\n",
    "env.reset()\n",
    "env.step(0)"
   ]
  },
  {
   "cell_type": "code",
   "execution_count": 2,
   "metadata": {},
   "outputs": [],
   "source": [
    "env = GridGame()\n",
    "# env.play_game()"
   ]
  },
  {
   "cell_type": "code",
   "execution_count": 3,
   "metadata": {},
   "outputs": [
    {
     "name": "stdout",
     "output_type": "stream",
     "text": [
      "(0, \"We should move 0 in the x direction and -4 in the y direction. Moving forward takes us -1 in the y direction. This is the right direction, so let's move forward. ACTION = FORWARD\")\n",
      "(1, 'We should move 0 in the x direction and 4 in the y direction. Moving forward takes us -1 in the y direction. We are facing the wrong direction, so turn around. ACTION = LEFT')\n",
      "(2, 'We should move 1 in the x direction and 4 in the y direction. Moving forward takes us -1 in the y direction. This is wrong, so we should turn. Turning left lets us travel in the -x direction, and turning right lets us travel in the +x direction. We want to travel in the +x direction, so we should turn right. ACTION = RIGHT')\n",
      "(1, 'We should move -1 in the x direction and 4 in the y direction. Moving forward takes us -1 in the y direction. This is wrong, so we should turn. Turning left lets us travel in the -x direction, and turning right lets us travel in the +x direction. We want to travel in the -x direction, so we should turn left. ACTION = LEFT')\n"
     ]
    }
   ],
   "source": [
    "s = {\n",
    "    'agent_pos': (3, 4),\n",
    "    'agent_dir': Direction.UP,\n",
    "    'target_pos': (3, 0),\n",
    "}\n",
    "print(oracle(s))\n",
    "\n",
    "s = {\n",
    "    'agent_pos': (3, 4),\n",
    "    'agent_dir': Direction.UP,\n",
    "    'target_pos': (3, 8),\n",
    "}\n",
    "print(oracle(s))\n",
    "\n",
    "s = {\n",
    "    'agent_pos': (3, 4),\n",
    "    'agent_dir': Direction.UP,\n",
    "    'target_pos': (4, 8),\n",
    "}\n",
    "print(oracle(s))\n",
    "\n",
    "s = {\n",
    "    'agent_pos': (3, 4),\n",
    "    'agent_dir': Direction.UP,\n",
    "    'target_pos': (2, 8),\n",
    "}\n",
    "print(oracle(s))"
   ]
  }
 ],
 "metadata": {
  "kernelspec": {
   "display_name": "Python 3",
   "language": "python",
   "name": "python3"
  },
  "language_info": {
   "codemirror_mode": {
    "name": "ipython",
    "version": 3
   },
   "file_extension": ".py",
   "mimetype": "text/x-python",
   "name": "python",
   "nbconvert_exporter": "python",
   "pygments_lexer": "ipython3",
   "version": "3.9.0"
  }
 },
 "nbformat": 4,
 "nbformat_minor": 2
}
